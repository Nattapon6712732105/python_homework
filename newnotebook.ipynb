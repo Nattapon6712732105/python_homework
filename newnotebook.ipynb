{
 "cells": [
  {
   "cell_type": "code",
   "execution_count": 8,
   "id": "507aa8d6-4bc4-41f2-9174-531427d32bea",
   "metadata": {},
   "outputs": [],
   "source": [
    "class Cat():\n",
    "  \n",
    "    def __init__(self, gene, name, age, sex, color):\n",
    "        self.gene = gene\n",
    "        self.name = name\n",
    "        self.age = age\n",
    "        self.sex = sex\n",
    "        self.color = color\n",
    "    \n",
    "    def sleep(self):\n",
    "        print(\"{} Zzzzzzzzzz!\".format(self.name))\n",
    "    \n",
    "    def walk(self):\n",
    "        print(\"{} Walking Around\".format(self.name)) \n",
    "    \n",
    "    def eat(self):\n",
    "        print(\"{} yumyyyyyy\".format(self.name))\n"
   ]
  },
  {
   "cell_type": "code",
   "execution_count": 9,
   "id": "0b958ee9-ec70-4bc3-9e28-83d42e3b4a20",
   "metadata": {},
   "outputs": [],
   "source": [
    "# สร้าง objects\n",
    "siam = Cat('siam', 'pratoo', 1, 'female', 'brown')\n",
    "cheshire = Cat('cheshire', 'maew', 2, 'female', 'blackgray')"
   ]
  },
  {
   "cell_type": "code",
   "execution_count": 10,
   "id": "9c7c1198-d903-4b71-be12-9864bff9f624",
   "metadata": {},
   "outputs": [
    {
     "name": "stdout",
     "output_type": "stream",
     "text": [
      "pratoo Zzzzzzzzzz!\n"
     ]
    }
   ],
   "source": [
    "siam.sleep()"
   ]
  },
  {
   "cell_type": "code",
   "execution_count": 7,
   "id": "94177da2-97af-43ef-98d3-e2fa77ef065c",
   "metadata": {},
   "outputs": [],
   "source": [
    "class Cat():\n",
    "    def __init__(self, name):\n",
    "        self.name = name\n",
    "\n",
    "    def eat(self):\n",
    "        print(\"{} is eat \".format(self.name))\n",
    "\n",
    "    def sleep(self):\n",
    "        print(\"{} is sleeping\".format(self.name))\n",
    "\n",
    "\n",
    "    \n"
   ]
  },
  {
   "cell_type": "code",
   "execution_count": 8,
   "id": "3b5c4382-28bf-4466-9e9e-4fe7d6ad8f46",
   "metadata": {},
   "outputs": [],
   "source": [
    "cat = Cat('pratoo')"
   ]
  },
  {
   "cell_type": "code",
   "execution_count": 9,
   "id": "f370f17a-96d4-4be0-b506-7f29fa7b4d6e",
   "metadata": {},
   "outputs": [
    {
     "name": "stdout",
     "output_type": "stream",
     "text": [
      "pratoo is eat \n"
     ]
    }
   ],
   "source": [
    "cat.eat()"
   ]
  },
  {
   "cell_type": "code",
   "execution_count": 11,
   "id": "52183c79-f0a8-4e7b-8c7c-fc0b079abeb4",
   "metadata": {},
   "outputs": [
    {
     "name": "stdout",
     "output_type": "stream",
     "text": [
      "pratoo is sleeping\n"
     ]
    }
   ],
   "source": [
    "cat.sleep()\n"
   ]
  },
  {
   "cell_type": "code",
   "execution_count": 3,
   "id": "35a338cc-410e-4660-8ced-7490f534ee10",
   "metadata": {},
   "outputs": [],
   "source": [
    "class Student():\n",
    "    def __init__(self, name, stid, age):\n",
    "        self.__name = name\n",
    "        self.__stid = stid\n",
    "        self.__age = age\n",
    "   \n",
    "    def setAge(self, new_age):\n",
    "        if newage > self.__age:\n",
    "            self.__age = new_age\n",
    "        else:    \n",
    "            print(\"Error\")    \n",
    "\n",
    "    def studentInfo(self):\n",
    "        print(\"{} : {} , age {}.\".format(self.__stid, self.__name, self.__age))"
   ]
  },
  {
   "cell_type": "code",
   "execution_count": 6,
   "id": "cf935271-0122-4728-8718-6fb7b0ce020c",
   "metadata": {},
   "outputs": [],
   "source": [
    "title = Student('Title', '001', 19)"
   ]
  },
  {
   "cell_type": "code",
   "execution_count": 5,
   "id": "19adce01-a3ab-4ce0-bbb6-036b03549a7f",
   "metadata": {},
   "outputs": [
    {
     "ename": "AttributeError",
     "evalue": "'Student' object has no attribute 'getAge'",
     "output_type": "error",
     "traceback": [
      "\u001b[1;31m---------------------------------------------------------------------------\u001b[0m",
      "\u001b[1;31mAttributeError\u001b[0m                            Traceback (most recent call last)",
      "Cell \u001b[1;32mIn[5], line 1\u001b[0m\n\u001b[1;32m----> 1\u001b[0m \u001b[43mtitle\u001b[49m\u001b[38;5;241;43m.\u001b[39;49m\u001b[43mgetAge\u001b[49m()\n",
      "\u001b[1;31mAttributeError\u001b[0m: 'Student' object has no attribute 'getAge'"
     ]
    }
   ],
   "source": [
    "title = Student"
   ]
  },
  {
   "cell_type": "code",
   "execution_count": 36,
   "id": "c820820d-c56a-4753-9451-79fb5325f15a",
   "metadata": {},
   "outputs": [
    {
     "name": "stdout",
     "output_type": "stream",
     "text": [
      "001 : Title , age 19.\n"
     ]
    }
   ],
   "source": [
    "title.studentInfo()"
   ]
  },
  {
   "cell_type": "code",
   "execution_count": null,
   "id": "7620c0c8-b140-497d-b103-d26f7ded83bc",
   "metadata": {},
   "outputs": [],
   "source": [
    "#Encapsulation\n",
    "#method\n"
   ]
  }
 ],
 "metadata": {
  "kernelspec": {
   "display_name": "Python 3 (ipykernel)",
   "language": "python",
   "name": "python3"
  },
  "language_info": {
   "codemirror_mode": {
    "name": "ipython",
    "version": 3
   },
   "file_extension": ".py",
   "mimetype": "text/x-python",
   "name": "python",
   "nbconvert_exporter": "python",
   "pygments_lexer": "ipython3",
   "version": "3.13.0"
  }
 },
 "nbformat": 4,
 "nbformat_minor": 5
}
