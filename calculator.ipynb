{
 "cells": [
  {
   "cell_type": "code",
   "execution_count": 14,
   "id": "60bd4aee-6698-482b-9dda-4e8585433e55",
   "metadata": {},
   "outputs": [],
   "source": [
    "class Calculator():\n",
    "    def __init__(self):\n",
    "        pass\n",
    "    \n",
    "    def add(self, x,y):\n",
    "        return x + y\n",
    "   \n",
    "    def sub(self, x,y):\n",
    "        return x - y\n",
    "   \n",
    "    def div(self, x,y):\n",
    "        return x / y\n",
    "    \n",
    "    def mul(self, x,y):\n",
    "       return x * y\n",
    "   "
   ]
  },
  {
   "cell_type": "code",
   "execution_count": 21,
   "id": "7d403239-7866-4c1f-8109-24b6cb943510",
   "metadata": {},
   "outputs": [],
   "source": [
    "class ScienceCal(Calculator):\n",
    "    def __init__(self):\n",
    "        pass\n",
    "\n",
    "    def sqrt(x):\n",
    "        return x**(1/2)"
   ]
  },
  {
   "cell_type": "code",
   "execution_count": 22,
   "id": "fe27318d-55db-4b57-b581-621b80f33866",
   "metadata": {},
   "outputs": [],
   "source": [
    "ori_cal = Calculator()\n",
    "new_cal = ScienceCal()"
   ]
  },
  {
   "cell_type": "code",
   "execution_count": 23,
   "id": "816630ec-b91a-4111-8287-d83df835bb23",
   "metadata": {},
   "outputs": [
    {
     "data": {
      "text/plain": [
       "3"
      ]
     },
     "execution_count": 23,
     "metadata": {},
     "output_type": "execute_result"
    }
   ],
   "source": [
    "new_cal.add(1, 2)"
   ]
  },
  {
   "cell_type": "code",
   "execution_count": 24,
   "id": "e0f058ba-62f0-4c7a-a693-6809796273fa",
   "metadata": {},
   "outputs": [
    {
     "ename": "TypeError",
     "evalue": "ScienceCal.sqrt() takes 1 positional argument but 2 were given",
     "output_type": "error",
     "traceback": [
      "\u001b[1;31m---------------------------------------------------------------------------\u001b[0m",
      "\u001b[1;31mTypeError\u001b[0m                                 Traceback (most recent call last)",
      "Cell \u001b[1;32mIn[24], line 1\u001b[0m\n\u001b[1;32m----> 1\u001b[0m \u001b[43mnew_cal\u001b[49m\u001b[38;5;241;43m.\u001b[39;49m\u001b[43msqrt\u001b[49m\u001b[43m(\u001b[49m\u001b[38;5;241;43m9\u001b[39;49m\u001b[43m)\u001b[49m\n",
      "\u001b[1;31mTypeError\u001b[0m: ScienceCal.sqrt() takes 1 positional argument but 2 were given"
     ]
    }
   ],
   "source": [
    "new_cal.sqrt(9)"
   ]
  },
  {
   "cell_type": "code",
   "execution_count": null,
   "id": "377d5adc-80af-41f4-ad8a-dc2aa1d79e52",
   "metadata": {},
   "outputs": [],
   "source": []
  }
 ],
 "metadata": {
  "kernelspec": {
   "display_name": "Python 3 (ipykernel)",
   "language": "python",
   "name": "python3"
  },
  "language_info": {
   "codemirror_mode": {
    "name": "ipython",
    "version": 3
   },
   "file_extension": ".py",
   "mimetype": "text/x-python",
   "name": "python",
   "nbconvert_exporter": "python",
   "pygments_lexer": "ipython3",
   "version": "3.13.0"
  }
 },
 "nbformat": 4,
 "nbformat_minor": 5
}
