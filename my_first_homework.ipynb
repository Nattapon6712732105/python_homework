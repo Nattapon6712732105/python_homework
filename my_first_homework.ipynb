{
 "cells": [
  {
   "cell_type": "markdown",
   "id": "99f70cff-03bc-4098-bc64-2e5f84cd6e1e",
   "metadata": {},
   "source": [
    "นาย ณัฐพล บุญนะรา\n",
    "\n",
    "เลขที่6712732105"
   ]
  },
  {
   "cell_type": "code",
   "execution_count": 1,
   "id": "be689a6f-ac81-4a90-af82-2c0aa8b75817",
   "metadata": {},
   "outputs": [
    {
     "name": "stdout",
     "output_type": "stream",
     "text": [
      "Hello , world\n"
     ]
    }
   ],
   "source": [
    "print (\"Hello , world\")"
   ]
  },
  {
   "cell_type": "code",
   "execution_count": null,
   "id": "635b8320-3658-41b4-8020-d238b21958bf",
   "metadata": {},
   "outputs": [],
   "source": []
  }
 ],
 "metadata": {
  "kernelspec": {
   "display_name": "Python 3 (ipykernel)",
   "language": "python",
   "name": "python3"
  },
  "language_info": {
   "codemirror_mode": {
    "name": "ipython",
    "version": 3
   },
   "file_extension": ".py",
   "mimetype": "text/x-python",
   "name": "python",
   "nbconvert_exporter": "python",
   "pygments_lexer": "ipython3",
   "version": "3.13.0"
  }
 },
 "nbformat": 4,
 "nbformat_minor": 5
}
