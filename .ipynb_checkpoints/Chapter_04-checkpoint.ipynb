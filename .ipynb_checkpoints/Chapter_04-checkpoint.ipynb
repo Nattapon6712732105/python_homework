{
 "cells": [
  {
   "cell_type": "markdown",
   "metadata": {},
   "source": [
    "# แบบฝึกหัดบทที่ 4 พื้นฐานโปรแกรมไพธอน"
   ]
  },
  {
   "cell_type": "code",
   "execution_count": null,
   "metadata": {},
   "outputs": [],
   "source": [
    "\"\"\" \n",
    "ชื่อ - สกุล - รหัสนักศึกษา\n",
    "\n",
    "ณัฐพล บุญนะรา 6712732105\n",
    "\"\"\""
   ]
  },
  {
   "cell_type": "markdown",
   "metadata": {},
   "source": [
    "## 1. จงอธิบายความหมายของคำว่า Syntax"
   ]
  },
  {
   "cell_type": "markdown",
   "metadata": {},
   "source": [
    "# คำตอบ\n",
    "หลักไวยากรณ์ คือ ข้อกำหนดในการเขียนโปรแกรมที่ตัวแปรภาษาสามารถประมวลผล และเข้าใจได้\n"
   ]
  },
  {
   "cell_type": "markdown",
   "metadata": {},
   "source": [
    "## 2.จงอธิบายความหมายของคำว่า Semantics"
   ]
  },
  {
   "cell_type": "markdown",
   "metadata": {},
   "source": [
    "# คำตอบ\n",
    "การทำความเข้าใจความหมายของโค้ดที่เขียนในภาษานี้ มันรวมถึงการประมวลผลและการทำความเข้าใจว่าคำสั่งที่เขียนในโค้ดนั้นทำอะไร ตัวอย่างเช่น ถ้าคุณเขียนว่า x = 5 นั่นหมายความว่า คุณกำหนดค่าให้ตัวแปร x มีค่าเท่ากับ 5\n",
    "\n",
    "ใน Python, Semantics ยังเกี่ยวข้องกับการทำความเข้าใจวิธีการทำงานของโครงสร้างข้อมูลต่างๆ เช่น ลิสต์ (lists), ดิกชันนารี (dictionaries), ทูเพิล (tuples), เซต (sets) เป็นต้น นอกจากนี้ยังรวมถึงวิธีการทำงานของฟังก์ชัน, การสร้างคลาส, และวิธีการทำงานของโมดูลต่างๆ\n"
   ]
  },
  {
   "cell_type": "markdown",
   "metadata": {},
   "source": [
    "## 3.Identifiers คืออะไร"
   ]
  },
  {
   "cell_type": "markdown",
   "metadata": {},
   "source": [
    "# คำตอบ\n",
    "หลักเกณฑ์ที่สำคัญของ Identifiers ใน Python ได้แก่:\n",
    "\n",
    "ต้องขึ้นต้นด้วยตัวอักษร (a-z, A-Z) หรืออักขระขีดล่าง (underscore) (_)\n",
    "\n",
    "ตามด้วยตัวอักษร, ตัวเลข (0-9) หรืออักขระขีดล่าง (_)\n",
    "\n",
    "สามารถเป็นตัวอักษรใหญ่และตัวอักษรเล็กได้ ตัวอย่างเช่น Variable, variable, และ VARIABLE ถือว่าเป็น identifiers ที่ต่างกัน\n",
    "\n",
    "ไม่สามารถใช้คำสงวน (keywords) เป็น identifiers ได้ เช่น for, while, True, False เป็นต้น\n"
   ]
  },
  {
   "cell_type": "markdown",
   "metadata": {},
   "source": [
    "## 4.คำสงวนในภาษาไพธอนคืออะไร และมีทั้งหมดกี่คำ"
   ]
  },
  {
   "cell_type": "markdown",
   "metadata": {},
   "source": [
    "# คำตอบ\n",
    "มีคำสงวนทั้งหมด 35 คำ:\n",
    "\n",
    "False\n",
    "\n",
    "None\n",
    "\n",
    "True\n",
    "\n",
    "and\n",
    "\n",
    "as\n",
    "\n",
    "assert\n",
    "\n",
    "async\n",
    "\n",
    "await\n",
    "\n",
    "break\n",
    "\n",
    "class\n",
    "\n",
    "continue\n",
    "\n",
    "def\n",
    "\n",
    "del\n",
    "\n",
    "elif\n",
    "\n",
    "else\n",
    "\n",
    "except\n",
    "\n",
    "finally\n",
    "\n",
    "for\n",
    "\n",
    "from\n",
    "\n",
    "global\n",
    "\n",
    "if\n",
    "\n",
    "import\n",
    "\n",
    "in\n",
    "\n",
    "is\n",
    "\n",
    "lambda\n",
    "\n",
    "nonlocal\n",
    "\n",
    "not\n",
    "\n",
    "or\n",
    "\n",
    "pass\n",
    "\n",
    "raise\n",
    "\n",
    "return\n",
    "\n",
    "try\n",
    "\n",
    "while\n",
    "\n",
    "with\n",
    "\n",
    "yield\n"
   ]
  },
  {
   "cell_type": "markdown",
   "metadata": {},
   "source": [
    "## 5.จงเขียนโปรแกรมไพธอนเพื่อรับข้อมูล ที่เป็นชื่อผู้ใช้งานจากแป้นพิมพ์และแสดงออกทางหน้าจอ"
   ]
  },
  {
   "cell_type": "code",
   "execution_count": 1,
   "metadata": {},
   "outputs": [
    {
     "name": "stdin",
     "output_type": "stream",
     "text": [
      "your name nattapon\n"
     ]
    },
    {
     "name": "stdout",
     "output_type": "stream",
     "text": [
      "nattapon\n"
     ]
    }
   ],
   "source": [
    "# พิมพ์โค้ดโปรแกรมด้านล่างนี้\n",
    "a = input(\"your name\")\n",
    "\n",
    "print(a)"
   ]
  },
  {
   "cell_type": "markdown",
   "metadata": {},
   "source": [
    "## 6.จงเขียนโปรแกรมเพื่อแสดงค่าของ pi คือ 3.14159 ออกทางหน้าจอโดยทำการกำหนดรูปแบบในการแสดงผลดังต่อไปนี้\n",
    "\n",
    "- pi = 3\n",
    "- pi = 3.14\n",
    "- pi = 3.1416\n"
   ]
  },
  {
   "cell_type": "code",
   "execution_count": 5,
   "metadata": {},
   "outputs": [
    {
     "name": "stdout",
     "output_type": "stream",
     "text": [
      "pi : 3\n",
      "pi : 3.14\n",
      "pi : 3.1416\n"
     ]
    }
   ],
   "source": [
    "# พิมพ์โค้ดโปรแกรมด้านล่างนี้\n",
    "pi = 3.1416\n",
    "print(\"pi : {0:.0f}\" .format (pi)) \n",
    "print(\"pi : {0:.2f}\" .format (pi)) \n",
    "print(\"pi : {0:.4f}\" .format (pi)) \n"
   ]
  },
  {
   "cell_type": "markdown",
   "metadata": {},
   "source": []
  },
  {
   "cell_type": "markdown",
   "metadata": {},
   "source": [
    "## 7.\tจงเขียนโปรแกรมที่แสดงคำว่า \"dog\", \"cat\", \"bat\" ออกทางหน้าจอ โดยกำหนดรูปแบบในการแสดงดังต่อไปนี้"
   ]
  },
  {
   "cell_type": "code",
   "execution_count": null,
   "metadata": {},
   "outputs": [],
   "source": [
    "\"\"\" \n",
    "|dog       |   cat    |       bat| \n",
    "\"\"\""
   ]
  },
  {
   "cell_type": "code",
   "execution_count": 15,
   "metadata": {},
   "outputs": [
    {
     "name": "stdout",
     "output_type": "stream",
     "text": [
      " dog | cat |  bat.\n"
     ]
    }
   ],
   "source": [
    "# พิมพ์โค้ดโปรแกรมด้านล่างนี้\n",
    "print(\" {d} | {c} |  {b}.\".format(d=\"dog\",   \n",
    "                                         c=\"cat\",   \n",
    "                                         b=\"bat\"))  \n",
    "\n"
   ]
  },
  {
   "cell_type": "markdown",
   "metadata": {},
   "source": [
    "## 8.\tจงเขียนโปรแกรมที่แสดงคำว่า \"dog\", \"cat\", \"bat\" ออกทางหน้าจอ โดยกำหนดรูปแบบในการแสดงดังต่อไปนี้"
   ]
  },
  {
   "cell_type": "code",
   "execution_count": null,
   "metadata": {},
   "outputs": [],
   "source": [
    "\"\"\" \n",
    "|dog*******|***cat****|*******bat| \n",
    "\"\"\""
   ]
  },
  {
   "cell_type": "code",
   "execution_count": 11,
   "metadata": {},
   "outputs": [
    {
     "name": "stdout",
     "output_type": "stream",
     "text": [
      "dog*******|***cat****|*******bat.\n"
     ]
    }
   ],
   "source": [
    "# พิมพ์โค้ดโปรแกรมด้านล่างนี้\n",
    "print(\"{d}*******|***{c}****|*******{b}.\".format(d=\"dog\",   \n",
    "                                         c=\"cat\",   \n",
    "                                         b=\"bat\"))  \n",
    "\n"
   ]
  },
  {
   "cell_type": "code",
   "execution_count": null,
   "metadata": {},
   "outputs": [],
   "source": []
  }
 ],
 "metadata": {
  "interpreter": {
   "hash": "40d3a090f54c6569ab1632332b64b2c03c39dcf918b08424e98f38b5ae0af88f"
  },
  "kernelspec": {
   "display_name": "Python 3 (ipykernel)",
   "language": "python",
   "name": "python3"
  },
  "language_info": {
   "codemirror_mode": {
    "name": "ipython",
    "version": 3
   },
   "file_extension": ".py",
   "mimetype": "text/x-python",
   "name": "python",
   "nbconvert_exporter": "python",
   "pygments_lexer": "ipython3",
   "version": "3.13.0"
  }
 },
 "nbformat": 4,
 "nbformat_minor": 4
}
