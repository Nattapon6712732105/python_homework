{
 "cells": [
  {
   "cell_type": "code",
   "execution_count": null,
   "id": "60bd4aee-6698-482b-9dda-4e8585433e55",
   "metadata": {},
   "outputs": [],
   "source": [
    "class Calculator():\n",
    "    def __init__(self):\n",
    "        pass\n",
    "    \n",
    "    def add(self, x,y):\n",
    "        return x + y\n",
    "   \n",
    "    def sub(self, x,y):\n",
    "        return x - y\n",
    "   \n",
    "    def div(self, x,y):\n",
    "        return x / y\n",
    "    \n",
    "    def mul(self, x,y):\n",
    "       return x * y\n",
    "   "
   ]
  },
  {
   "cell_type": "code",
   "execution_count": null,
   "id": "7d403239-7866-4c1f-8109-24b6cb943510",
   "metadata": {},
   "outputs": [],
   "source": [
    "cal = Calculator()"
   ]
  },
  {
   "cell_type": "code",
   "execution_count": null,
   "id": "e0f058ba-62f0-4c7a-a693-6809796273fa",
   "metadata": {},
   "outputs": [],
   "source": []
  }
 ],
 "metadata": {
  "kernelspec": {
   "display_name": "Python 3 (ipykernel)",
   "language": "python",
   "name": "python3"
  },
  "language_info": {
   "codemirror_mode": {
    "name": "ipython",
    "version": 3
   },
   "file_extension": ".py",
   "mimetype": "text/x-python",
   "name": "python",
   "nbconvert_exporter": "python",
   "pygments_lexer": "ipython3",
   "version": "3.13.0"
  }
 },
 "nbformat": 4,
 "nbformat_minor": 5
}
