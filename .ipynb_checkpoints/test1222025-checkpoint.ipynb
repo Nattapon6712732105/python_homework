{
 "cells": [
  {
   "cell_type": "code",
   "execution_count": 8,
   "id": "7c3f9600-e0c0-42b4-a70b-b6e931b6e2df",
   "metadata": {},
   "outputs": [],
   "source": [
    "lt = [6,9,3,7,0,1,5,2,8]"
   ]
  },
  {
   "cell_type": "code",
   "execution_count": 11,
   "id": "c971d52c-2d2e-41d3-8bf1-f80a217e7820",
   "metadata": {},
   "outputs": [],
   "source": [
    "#ให้ทำการเรียงข้อมูล lt จากน้อยไปหามาก"
   ]
  },
  {
   "cell_type": "code",
   "execution_count": 14,
   "id": "efff4d02-2737-431f-8e06-2ec3527a648b",
   "metadata": {},
   "outputs": [
    {
     "name": "stdout",
     "output_type": "stream",
     "text": [
      "[3, 0, 1, 5, 2] 6 [9, 7, 8]\n"
     ]
    }
   ],
   "source": [
    "pivot = lt[0]\n",
    "left = [i for i in lt if i < pivot]\n",
    "right = [i for i in lt if i > pivot]\n",
    "\n",
    "print(\"{} {} {}\".format(left, pivot, right))"
   ]
  },
  {
   "cell_type": "code",
   "execution_count": 15,
   "id": "253ec312-0435-4a3f-9ed4-16bc17764f4e",
   "metadata": {},
   "outputs": [
    {
     "name": "stdout",
     "output_type": "stream",
     "text": [
      "[0, 1, 2] 3 [5]\n"
     ]
    }
   ],
   "source": [
    "pivot_left_2 = left[0]\n",
    "left_left_2 = [i for i in left if i < pivot_left_2]\n",
    "right_left_2 = [i for i in left if i > pivot_left_2]\n",
    "\n",
    "print(\"{} {} {}\".format(left_left_2, pivot_left_2, right_left_2))"
   ]
  },
  {
   "cell_type": "code",
   "execution_count": 16,
   "id": "a885099b-0164-4944-9148-98ef47724091",
   "metadata": {},
   "outputs": [
    {
     "name": "stdout",
     "output_type": "stream",
     "text": [
      "[7, 8] 9 []\n"
     ]
    }
   ],
   "source": [
    "pivot_right_2 = right[0]\n",
    "left_right_2 = [i for i in right if i < pivot_right_2]\n",
    "right_right_2 = [i for i in right if i > pivot_right_2]\n",
    "\n",
    "print(\"{} {} {}\".format(left_right_2, pivot_right_2, right_right_2))"
   ]
  },
  {
   "cell_type": "code",
   "execution_count": 17,
   "id": "f23799c0-d71e-4989-8eb5-d2e6c6b92112",
   "metadata": {},
   "outputs": [
    {
     "name": "stdout",
     "output_type": "stream",
     "text": [
      "[7, 8] 9 []\n"
     ]
    }
   ],
   "source": [
    "pivot_right_2 = right[0]\n",
    "left_right_2 = [i for i in right if i < pivot_right_2]\n",
    "right_right_2 = [i for i in right if i > pivot_right_2]\n",
    "\n",
    "print(\"{} {} {}\".format(left_right_2, pivot_right_2, right_right_2))"
   ]
  },
  {
   "cell_type": "code",
   "execution_count": 18,
   "id": "de7ab0e1-5582-450d-8ce3-4455fc18def9",
   "metadata": {},
   "outputs": [
    {
     "data": {
      "text/plain": [
       "[0, 1, 2, 3, 5, 6, 7, 8, 9]"
      ]
     },
     "execution_count": 18,
     "metadata": {},
     "output_type": "execute_result"
    }
   ],
   "source": [
    "left_left_2 + \\\n",
    "[pivot_left_2] + \\\n",
    "right_left_2 + \\\n",
    "[pivot] + \\\n",
    "left_right_2 + \\\n",
    "[pivot_right_2] + \\\n",
    "right_right_2"
   ]
  },
  {
   "cell_type": "code",
   "execution_count": null,
   "id": "09e46eaa-0a74-4e8e-8209-28c53c4029e0",
   "metadata": {},
   "outputs": [],
   "source": []
  }
 ],
 "metadata": {
  "kernelspec": {
   "display_name": "Python 3 (ipykernel)",
   "language": "python",
   "name": "python3"
  },
  "language_info": {
   "codemirror_mode": {
    "name": "ipython",
    "version": 3
   },
   "file_extension": ".py",
   "mimetype": "text/x-python",
   "name": "python",
   "nbconvert_exporter": "python",
   "pygments_lexer": "ipython3",
   "version": "3.13.0"
  }
 },
 "nbformat": 4,
 "nbformat_minor": 5
}
