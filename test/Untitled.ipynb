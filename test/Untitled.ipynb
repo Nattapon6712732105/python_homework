{
 "cells": [
  {
   "cell_type": "code",
   "execution_count": 2,
   "id": "3b28f098-73b5-43f4-806e-80546e1e4a53",
   "metadata": {},
   "outputs": [
    {
     "data": {
      "text/plain": [
       "32.75"
      ]
     },
     "execution_count": 2,
     "metadata": {},
     "output_type": "execute_result"
    }
   ],
   "source": [
    "10/8*7+3*4+12\n"
   ]
  },
  {
   "cell_type": "code",
   "execution_count": 3,
   "id": "87ed6a68-580c-436e-9d20-b9121a858508",
   "metadata": {},
   "outputs": [
    {
     "data": {
      "text/plain": [
       "17.0"
      ]
     },
     "execution_count": 3,
     "metadata": {},
     "output_type": "execute_result"
    }
   ],
   "source": [
    "(2*10%3)+3*(10/2)"
   ]
  },
  {
   "cell_type": "code",
   "execution_count": 4,
   "id": "21b3d8ad-f041-40e5-8a4f-3b3f00ca925f",
   "metadata": {},
   "outputs": [
    {
     "data": {
      "text/plain": [
       "26"
      ]
     },
     "execution_count": 4,
     "metadata": {},
     "output_type": "execute_result"
    }
   ],
   "source": [
    "10*2 +1+3+ 10%4"
   ]
  },
  {
   "cell_type": "code",
   "execution_count": 5,
   "id": "e62c05fd-5e07-4cd8-a1e2-ea02aad8778c",
   "metadata": {},
   "outputs": [
    {
     "data": {
      "text/plain": [
       "2"
      ]
     },
     "execution_count": 5,
     "metadata": {},
     "output_type": "execute_result"
    }
   ],
   "source": [
    "10%4"
   ]
  },
  {
   "cell_type": "code",
   "execution_count": null,
   "id": "a34adbee-00b7-48de-bab6-04c340c97ff5",
   "metadata": {},
   "outputs": [],
   "source": []
  }
 ],
 "metadata": {
  "kernelspec": {
   "display_name": "Python 3 (ipykernel)",
   "language": "python",
   "name": "python3"
  },
  "language_info": {
   "codemirror_mode": {
    "name": "ipython",
    "version": 3
   },
   "file_extension": ".py",
   "mimetype": "text/x-python",
   "name": "python",
   "nbconvert_exporter": "python",
   "pygments_lexer": "ipython3",
   "version": "3.13.0"
  }
 },
 "nbformat": 4,
 "nbformat_minor": 5
}
