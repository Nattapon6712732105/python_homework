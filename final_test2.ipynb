{
 "cells": [
  {
   "cell_type": "markdown",
   "id": "8a899521-f64b-4130-9257-26913c812ecd",
   "metadata": {},
   "source": [
    "กบ (frog)\n",
    "1 second, 32 megabytes\n",
    "มีเจ้ากบน้อยอยู่ตัวหนึ่ง สามารถกระโดดได้ในทุกทิศทางบนระนาบ และจะกระโดดเป็นระยะทางครั้งละ X หน่วย\n",
    "พอดี อยู่มาวันหนึ่ง เจ้ากบน้อยต้องการกระโดดจากจุด A ไปยังจุด B ซึ่งเป็นจุดบนระนาบ ที่ตั้งอยู่ห่างกัน Y หน่วย\n",
    "เจ้ากบน้อยอยากให้คุณช่วยหาว่า มันจะต้องกระโดดอย่างน้อยกี่ครั้ง จึงจะไปหยุดที่จุด B พอดี\n",
    "โจทย์จงเขียนโปรแกรมเพื่อรับจํานวนเต็ม X และ Y แล้วคํานวณหาจํานวนครั้งที่น้อยที่สุดที่เจ้ากบน้อยต้องใช้ใน\n",
    "การกระโดดจากจุด A ไปยังจุด B\n",
    "ข้อมูลนําเข้า\n",
    "มีบรรทัดเดียว ระบุจํานวนเต็ม X และ Y (1 ≤ X, Y ≤ 1 000) แทนระยะทางในการกระโดดแต่ละครั้งของเจ้ากบ\n",
    "น้อย และระยะห่างระหว่างจุด A และจุด B\n",
    "ข้อมูลส่งออก\n",
    "มีบรรทัดเดียว แสดงจํานวนครั้งที่น้อยที่สุดที่เจ้ากบน้อยต้องใช้ในการกระโดดจากจุด A ไปยังจุด B\n",
    "ตัวอย่างข้อมูลนําเข้าและข้อมูลส่งออก\n",
    "\n",
    "ตัวอย่างข้อมูลนําเข้า ตัวอย่างข้อมูลส่งออก\n",
    "\n",
    "3 12 4\n",
    "5 23 5"
   ]
  },
  {
   "cell_type": "code",
   "execution_count": 4,
   "id": "7d2a8618-6cce-4774-aa2f-bbe7b4741c89",
   "metadata": {},
   "outputs": [
    {
     "name": "stdin",
     "output_type": "stream",
     "text": [
      " 50\n"
     ]
    },
    {
     "name": "stdout",
     "output_type": "stream",
     "text": [
      "Invalid input. Please enter two valid integers.\n"
     ]
    }
   ],
   "source": [
    "def min_jumps(x, y):\n",
    "    return (y + x - 1) // x  \n",
    "\n",
    "try:\n",
    "    x, y = map(int, input().split())\n",
    "    if x <= 0 or y <= 0:\n",
    "        print(\"Invalid input. X and Y must be positive integers.\")\n",
    "    else:\n",
    "        print(min_jumps(x, y))\n",
    "except ValueError:\n",
    "    print(\"Invalid input. Please enter two valid integers.\")\n"
   ]
  },
  {
   "cell_type": "code",
   "execution_count": null,
   "id": "a3f88924-3319-463d-a817-fa2c4f339d52",
   "metadata": {},
   "outputs": [],
   "source": []
  }
 ],
 "metadata": {
  "kernelspec": {
   "display_name": "Python 3 (ipykernel)",
   "language": "python",
   "name": "python3"
  },
  "language_info": {
   "codemirror_mode": {
    "name": "ipython",
    "version": 3
   },
   "file_extension": ".py",
   "mimetype": "text/x-python",
   "name": "python",
   "nbconvert_exporter": "python",
   "pygments_lexer": "ipython3",
   "version": "3.13.0"
  }
 },
 "nbformat": 4,
 "nbformat_minor": 5
}
