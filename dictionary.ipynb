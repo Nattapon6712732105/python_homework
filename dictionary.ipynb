{
 "cells": [
  {
   "cell_type": "code",
   "execution_count": 2,
   "id": "4c3c6f10-9646-47c6-9a8c-b5ecb1b82bb1",
   "metadata": {},
   "outputs": [],
   "source": [
    "marine_fish = [\n",
    "    'Tuna',\n",
    "    'Salmon',\n",
    "    'Mackerel',\n",
    "    'Cod',\n",
    "    'Snapper',\n",
    "    'Sardine',\n",
    "    'Tuna',\n",
    "    'Tuna',\n",
    "    'Salmon',\n",
    "    'Mackerel',\n",
    "    'Cod',\n",
    "    'Snapper',\n",
    "    'Sardine',\n",
    "    'Tuna',  \n",
    "    'Tuna',\n",
    "    'Salmon',\n",
    "    'Mackerel',\n",
    "    'Cod',\n",
    "    'Snapper',\n",
    "    'Sardine',\n",
    "    'Tuna'  \n",
    "]\n"
   ]
  },
  {
   "cell_type": "code",
   "execution_count": 3,
   "id": "058b2b71-ee76-49d3-b468-19a6c5713336",
   "metadata": {},
   "outputs": [
    {
     "name": "stdout",
     "output_type": "stream",
     "text": [
      "{'Tuna': 6, 'Salmon': 3, 'Mackerel': 3, 'Cod': 3, 'Snapper': 3, 'Sardine': 3}\n"
     ]
    }
   ],
   "source": [
    "#ให้ทำการนับจำนวนในสายพันธ์ปลาภายใน dict นี้\n",
    "count_dct = {}\n",
    "for value in marine_fish:\n",
    "    if count_dct.get(value):\n",
    "        count_dct[value] += 1\n",
    "    else:\n",
    "        count_dct[value] = 1\n",
    "\n",
    "print(count_dct)\n",
    "        "
   ]
  },
  {
   "cell_type": "code",
   "execution_count": 16,
   "id": "e947b0bb-157d-4451-ae76-07a78a2588b0",
   "metadata": {},
   "outputs": [],
   "source": [
    "#ให้ทำำการนับจำนวน AT ในสายอักขระ DNA นี้\n",
    "dna_sequence = \"ATTCGGCTAAGGTCCTAAGGTTCCTAGGCCT\""
   ]
  },
  {
   "cell_type": "code",
   "execution_count": 18,
   "id": "95437d93-d816-402a-9790-7c940050ec28",
   "metadata": {},
   "outputs": [
    {
     "name": "stdout",
     "output_type": "stream",
     "text": [
      "AG : 3\n"
     ]
    }
   ],
   "source": [
    "dna = \"ATTCGGCTAAGGTCCTAAGGTTCCTAGGCCT\"\n",
    "count = 0\n",
    "for index in range(0, len(dna_sequence) - 1):\n",
    "    if dna[index] + dna[index+1] == \"AG\":\n",
    "        count += 1 \n",
    "print(\"AG : {}\".format(count))"
   ]
  },
  {
   "cell_type": "code",
   "execution_count": 5,
   "id": "a205430e-5e09-4970-a7b4-e40c8ad87970",
   "metadata": {},
   "outputs": [
    {
     "name": "stdout",
     "output_type": "stream",
     "text": [
      "DNA is ATTCGGCTAAGGTCC\n",
      "RNA is AUUCGGCUAAGGUCC\n",
      "count result is {'A': 3, 'T': 4, 'C': 4, 'G': 4}\n"
     ]
    }
   ],
   "source": [
    "dna = \"ATTCGGCTAAGGTCC\"\n",
    "if len(dna) % 3 == 0:\n",
    "    count = {}\n",
    "    for i in dna:\n",
    "        if count.get(i):\n",
    "            count[i] +=1\n",
    "        else:\n",
    "            count[i] = 1           \n",
    "    rna.replace(\"T\", \"U\")\n",
    "    print(\"DNA is {}\".format(dna))\n",
    "    print(\"RNA is {}\".format(rna))\n",
    "    print(\"count result is {}\".format(count))\n",
    "        "
   ]
  },
  {
   "cell_type": "code",
   "execution_count": null,
   "id": "c5db5f1d-6ca7-452d-af20-c86e5c05d374",
   "metadata": {},
   "outputs": [],
   "source": []
  }
 ],
 "metadata": {
  "kernelspec": {
   "display_name": "Python 3 (ipykernel)",
   "language": "python",
   "name": "python3"
  },
  "language_info": {
   "codemirror_mode": {
    "name": "ipython",
    "version": 3
   },
   "file_extension": ".py",
   "mimetype": "text/x-python",
   "name": "python",
   "nbconvert_exporter": "python",
   "pygments_lexer": "ipython3",
   "version": "3.13.0"
  }
 },
 "nbformat": 4,
 "nbformat_minor": 5
}
